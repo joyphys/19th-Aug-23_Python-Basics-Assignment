{
 "cells": [
  {
   "cell_type": "markdown",
   "id": "a072ba84",
   "metadata": {},
   "source": [
    "# TOPIC: Python Basics Variable"
   ]
  },
  {
   "cell_type": "code",
   "execution_count": null,
   "id": "336d831d",
   "metadata": {},
   "outputs": [],
   "source": [
    "1. Declare two variables, `x` and `y`, and assign them integer values. Swap the\n",
    "values of these variables without using any temporary variable.\n",
    "2. Create a program that calculates the area of a rectangle. Take the length and\n",
    "width as inputs from the user and store them in variables. Calculate and\n",
    "display the area.\n",
    "3. Write a Python program that converts temperatures from Celsius to\n",
    "Fahrenheit. Take the temperature in Celsius as input, store it in a variable,\n",
    "convert it to Fahrenheit, and display the result."
   ]
  },
  {
   "cell_type": "code",
   "execution_count": 3,
   "id": "f1749c79",
   "metadata": {},
   "outputs": [
    {
     "name": "stdout",
     "output_type": "stream",
     "text": [
      "Enter x : 7\n",
      "Enter y : 8\n",
      "7 8\n",
      "8 7\n"
     ]
    }
   ],
   "source": [
    "#1. Declare two variables, `x` and `y`, and assign them integer values. Swap the\n",
    "#values of these variables without using any temporary variable.\n",
    "\n",
    "x=int(input(\"Enter x : \"))\n",
    "y=int(input(\"Enter y : \"))\n",
    "print(x,y)\n",
    "\n",
    "x,y=y,x\n",
    "\n",
    "print(x,y)"
   ]
  },
  {
   "cell_type": "code",
   "execution_count": 5,
   "id": "b74c8844",
   "metadata": {},
   "outputs": [
    {
     "name": "stdout",
     "output_type": "stream",
     "text": [
      "Enter the length : 7\n",
      "Enter the width : 8\n",
      "56.0\n"
     ]
    }
   ],
   "source": [
    "#2. Create a program that calculates the area of a rectangle. Take the length and\n",
    "#width as inputs from the user and store them in variables. Calculate and\n",
    "#display the area.\n",
    "\n",
    "length=float(input(\"Enter the length : \"))\n",
    "width=float(input(\"Enter the width : \"))\n",
    "\n",
    "area=length*width\n",
    "\n",
    "print(area)"
   ]
  },
  {
   "cell_type": "code",
   "execution_count": 8,
   "id": "43023198",
   "metadata": {},
   "outputs": [
    {
     "name": "stdout",
     "output_type": "stream",
     "text": [
      "Enter the temperature in Celsius : 0\n",
      "Temperature in Fahrenheit is 32.0\n"
     ]
    }
   ],
   "source": [
    "#3. Write a Python program that converts temperatures from Celsius to\n",
    "#Fahrenheit. Take the temperature in Celsius as input, store it in a variable,\n",
    "#convert it to Fahrenheit, and display the result.\n",
    "\n",
    "\n",
    "Celsius=float(input(\"Enter the temperature in Celsius : \"))\n",
    "\n",
    "Fahrenheit=Celsius*(9/5)+32\n",
    "\n",
    "print(f\"Temperature in Fahrenheit is {Fahrenheit}\")"
   ]
  },
  {
   "cell_type": "markdown",
   "id": "fb1d595d",
   "metadata": {},
   "source": [
    "# TOPIC: String Based Questions"
   ]
  },
  {
   "cell_type": "code",
   "execution_count": null,
   "id": "dee4a54d",
   "metadata": {},
   "outputs": [],
   "source": [
    "\n",
    "\n",
    "\n"
   ]
  },
  {
   "cell_type": "code",
   "execution_count": 11,
   "id": "5ecb4f24",
   "metadata": {},
   "outputs": [
    {
     "name": "stdout",
     "output_type": "stream",
     "text": [
      "Enter a string : spring\n",
      "length of the string is : 6\n"
     ]
    }
   ],
   "source": [
    "#1. Write a Python program that takes a string as input and prints the length of\n",
    "#the string.\n",
    "\n",
    "string=input(\"Enter a string : \")\n",
    "\n",
    "print(f\"length of the string is : {len(string)}\")"
   ]
  },
  {
   "cell_type": "code",
   "execution_count": 13,
   "id": "ade0e030",
   "metadata": {},
   "outputs": [
    {
     "name": "stdout",
     "output_type": "stream",
     "text": [
      "Enter a string : autumn\n",
      "the number of vowels : 3\n"
     ]
    }
   ],
   "source": [
    "#2. Create a program that takes a sentence from the user and counts the number\n",
    "#of vowels (a, e, i, o, u) in the string.\n",
    "\n",
    "vowels=['a','e','i','o','u','A','E','I','O','U']\n",
    "\n",
    "string=input(\"Enter a string : \")\n",
    "\n",
    "c=0\n",
    "\n",
    "for i in string:\n",
    "    if i in vowels:\n",
    "        c=c+1\n",
    "\n",
    "print(f\"the number of vowels : {c}\")\n",
    "    "
   ]
  },
  {
   "cell_type": "code",
   "execution_count": 20,
   "id": "66f9ed0a",
   "metadata": {},
   "outputs": [
    {
     "name": "stdout",
     "output_type": "stream",
     "text": [
      "String slicing\n",
      "AST\n",
      "ATI\n",
      "GITA\n"
     ]
    }
   ],
   "source": [
    "#3. Given a string, reverse the order of characters using string slicing and print\n",
    "#the reversed string.\n",
    "\n"
   ]
  },
  {
   "cell_type": "code",
   "execution_count": null,
   "id": "c05ee1e5",
   "metadata": {},
   "outputs": [],
   "source": [
    "#string slicing\n",
    "\n",
    "\n",
    "String = 'ASTRING'\n",
    " \n",
    "# Using slice constructor\n",
    "s1 = slice(3)\n",
    "s2 = slice(0, 5, 2)\n",
    "s3 = slice(-1, -12, -2)\n",
    " \n",
    "print(\"String slicing\")\n",
    "print(String[s1])\n",
    "print(String[s2])\n",
    "print(String[s3])\n",
    "\n"
   ]
  },
  {
   "cell_type": "code",
   "execution_count": 27,
   "id": "c236c834",
   "metadata": {},
   "outputs": [
    {
     "name": "stdout",
     "output_type": "stream",
     "text": [
      "amees\n"
     ]
    }
   ],
   "source": [
    "string = 'seema'\n",
    "\n",
    "s=slice(-1,-len(string)-1,-1)\n",
    "\n",
    "print(string[s])"
   ]
  },
  {
   "cell_type": "code",
   "execution_count": 39,
   "id": "938aa935",
   "metadata": {},
   "outputs": [
    {
     "name": "stdout",
     "output_type": "stream",
     "text": [
      "Enter the string : tenet\n",
      "It's a Palindrome.\n",
      "printed in froward way : tenet\n",
      "printed in reverse way : tenet\n"
     ]
    }
   ],
   "source": [
    "#4. Write a program that takes a string as input and checks if it is a palindrome\n",
    "#(reads the same forwards and backwards).\n",
    "\n",
    "string=input(\"Enter the string : \")\n",
    "\n",
    "if string==string[::-1]:\n",
    "    print(f\"It's a Palindrome.\")\n",
    "\n",
    "print(f\"printed in froward way : {string}\")    \n",
    "print(f\"printed in reverse way : {string[::-1]}\")\n"
   ]
  },
  {
   "cell_type": "code",
   "execution_count": 49,
   "id": "6fbb31db",
   "metadata": {},
   "outputs": [
    {
     "name": "stdout",
     "output_type": "stream",
     "text": [
      "abcd\n"
     ]
    }
   ],
   "source": [
    "#5. Create a program that takes a string as input and removes all the spaces from\n",
    "#it. Print the modified string without spaces.\n",
    "\n",
    "string=\"a b c d\"\n",
    "\n",
    "lst=string.split(\" \")\n",
    "\n",
    "print(''.join(lst))"
   ]
  },
  {
   "cell_type": "code",
   "execution_count": null,
   "id": "303a68e4",
   "metadata": {},
   "outputs": [],
   "source": []
  }
 ],
 "metadata": {
  "kernelspec": {
   "display_name": "Python 3 (ipykernel)",
   "language": "python",
   "name": "python3"
  },
  "language_info": {
   "codemirror_mode": {
    "name": "ipython",
    "version": 3
   },
   "file_extension": ".py",
   "mimetype": "text/x-python",
   "name": "python",
   "nbconvert_exporter": "python",
   "pygments_lexer": "ipython3",
   "version": "3.9.17"
  }
 },
 "nbformat": 4,
 "nbformat_minor": 5
}
